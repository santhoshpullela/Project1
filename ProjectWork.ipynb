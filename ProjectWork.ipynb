{
 "cells": [
  {
   "cell_type": "code",
   "execution_count": 1,
   "metadata": {
    "collapsed": true
   },
   "outputs": [],
   "source": [
    "# Import Dependencies\n",
    "import pandas as pd\n",
    "import numpy as np\n",
    "from config import api_key\n",
    "import requests\n",
    "from pprint import pprint"
   ]
  },
  {
   "cell_type": "code",
   "execution_count": 2,
   "metadata": {
    "collapsed": true
   },
   "outputs": [],
   "source": [
    "# Define API base url and targetted years of movies data\n",
    "url1 = \"https://api.themoviedb.org/3/discover/movie?\"\n",
    "year_data = [2015,2016,2017,2018]"
   ]
  },
  {
   "cell_type": "code",
   "execution_count": 3,
   "metadata": {},
   "outputs": [
    {
     "name": "stdout",
     "output_type": "stream",
     "text": [
      "https://api.themoviedb.org/3/discover/movie?api_key=f63b434c2eae10c869016441dc039f7b&primary_release_year=2015&page=1\n",
      "https://api.themoviedb.org/3/discover/movie?api_key=f63b434c2eae10c869016441dc039f7b&primary_release_year=2015&page=2\n",
      "https://api.themoviedb.org/3/discover/movie?api_key=f63b434c2eae10c869016441dc039f7b&primary_release_year=2015&page=3\n",
      "https://api.themoviedb.org/3/discover/movie?api_key=f63b434c2eae10c869016441dc039f7b&primary_release_year=2015&page=4\n",
      "https://api.themoviedb.org/3/discover/movie?api_key=f63b434c2eae10c869016441dc039f7b&primary_release_year=2015&page=5\n",
      "https://api.themoviedb.org/3/discover/movie?api_key=f63b434c2eae10c869016441dc039f7b&primary_release_year=2015&page=6\n",
      "https://api.themoviedb.org/3/discover/movie?api_key=f63b434c2eae10c869016441dc039f7b&primary_release_year=2015&page=7\n",
      "https://api.themoviedb.org/3/discover/movie?api_key=f63b434c2eae10c869016441dc039f7b&primary_release_year=2016&page=1\n",
      "https://api.themoviedb.org/3/discover/movie?api_key=f63b434c2eae10c869016441dc039f7b&primary_release_year=2016&page=2\n",
      "https://api.themoviedb.org/3/discover/movie?api_key=f63b434c2eae10c869016441dc039f7b&primary_release_year=2016&page=3\n",
      "https://api.themoviedb.org/3/discover/movie?api_key=f63b434c2eae10c869016441dc039f7b&primary_release_year=2016&page=4\n",
      "https://api.themoviedb.org/3/discover/movie?api_key=f63b434c2eae10c869016441dc039f7b&primary_release_year=2016&page=5\n",
      "https://api.themoviedb.org/3/discover/movie?api_key=f63b434c2eae10c869016441dc039f7b&primary_release_year=2016&page=6\n",
      "https://api.themoviedb.org/3/discover/movie?api_key=f63b434c2eae10c869016441dc039f7b&primary_release_year=2016&page=7\n",
      "https://api.themoviedb.org/3/discover/movie?api_key=f63b434c2eae10c869016441dc039f7b&primary_release_year=2017&page=1\n",
      "https://api.themoviedb.org/3/discover/movie?api_key=f63b434c2eae10c869016441dc039f7b&primary_release_year=2017&page=2\n",
      "https://api.themoviedb.org/3/discover/movie?api_key=f63b434c2eae10c869016441dc039f7b&primary_release_year=2017&page=3\n",
      "https://api.themoviedb.org/3/discover/movie?api_key=f63b434c2eae10c869016441dc039f7b&primary_release_year=2017&page=4\n",
      "https://api.themoviedb.org/3/discover/movie?api_key=f63b434c2eae10c869016441dc039f7b&primary_release_year=2017&page=5\n",
      "https://api.themoviedb.org/3/discover/movie?api_key=f63b434c2eae10c869016441dc039f7b&primary_release_year=2017&page=6\n",
      "https://api.themoviedb.org/3/discover/movie?api_key=f63b434c2eae10c869016441dc039f7b&primary_release_year=2017&page=7\n",
      "https://api.themoviedb.org/3/discover/movie?api_key=f63b434c2eae10c869016441dc039f7b&primary_release_year=2018&page=1\n",
      "https://api.themoviedb.org/3/discover/movie?api_key=f63b434c2eae10c869016441dc039f7b&primary_release_year=2018&page=2\n",
      "https://api.themoviedb.org/3/discover/movie?api_key=f63b434c2eae10c869016441dc039f7b&primary_release_year=2018&page=3\n",
      "https://api.themoviedb.org/3/discover/movie?api_key=f63b434c2eae10c869016441dc039f7b&primary_release_year=2018&page=4\n",
      "https://api.themoviedb.org/3/discover/movie?api_key=f63b434c2eae10c869016441dc039f7b&primary_release_year=2018&page=5\n",
      "https://api.themoviedb.org/3/discover/movie?api_key=f63b434c2eae10c869016441dc039f7b&primary_release_year=2018&page=6\n",
      "https://api.themoviedb.org/3/discover/movie?api_key=f63b434c2eae10c869016441dc039f7b&primary_release_year=2018&page=7\n",
      "[99861, 87101, 254128, 150689, 76341, 140607, 206647, 150540, 262500, 76757, 198184, 102899, 158852, 294254, 253412, 177677, 216015, 168259, 285783, 264660, 307081, 135397, 296098, 273481, 312221, 399905, 264644, 203801, 318846, 207703, 205775, 256591, 261023, 286217, 257211, 238713, 298312, 277216, 281957, 131634, 293863, 256961, 306819, 257344, 254470, 211672, 265208, 214756, 241554, 273248, 314365, 228161, 243688, 280092, 238615, 290764, 277217, 159824, 201088, 308369, 321697, 252838, 201085, 105864, 167073, 258480, 339530, 272693, 228205, 249070, 365222, 274854, 252512, 334074, 257445, 166424, 307663, 276907, 296100, 266647, 296099, 274167, 295964, 290637, 181283, 222936, 253344, 263472, 271718, 280996, 210860, 250124, 254320, 314405, 325348, 390845, 257091, 283445, 287424, 321741, 188222, 227973, 243938, 294016, 287948, 328589, 261392, 192141, 225728, 266396, 347096, 266294, 228973, 254302, 237756, 251516, 228066, 286565, 339527, 328425, 258509, 301351, 290751, 357096, 329263, 386869, 332340, 287903, 263109, 294963, 342878, 332502, 297556, 318781, 273477, 309809, 304357, 223485, 228165, 274479, 269149, 209112, 271110, 259316, 324786, 246655, 394823, 278927, 293660, 140300, 313369, 283366, 258489, 188927, 333484, 330459, 127380, 284052, 291805, 425895, 376867, 267192, 334541, 338766, 290250, 329865, 308266, 346672, 278154, 43074, 372058, 297761, 302946, 348893, 121856, 241259, 381284, 68735, 136799, 418827, 259693, 302699, 335797, 47933, 334543, 290595, 262504, 333371, 376659, 324668, 207932, 311324, 334533, 340666, 316727, 332567, 321258, 291870, 271969, 299687, 153518, 223702, 205584, 342473, 296096, 369885, 345911, 301365, 258230, 378018, 393457, 332210, 388399, 310131, 376290, 403509, 267193, 323675, 382591, 296524, 427175, 363676, 343611, 290098, 397243, 68730, 482702, 310307, 391757, 263341, 339967, 325133, 416148, 274870, 300671, 259694, 313297, 302688, 368031, 411088, 356305, 301804, 294272, 308531, 168098, 257440, 328387, 345920, 319888, 375315, 378064, 341006, 300669, 334524, 329833, 313922, 278924, 323677, 387893, 404378, 408194, 377275, 241258, 300673, 345009, 303858, 283552, 267860, 302401, 333667, 381341, 332721, 331962, 267935, 375355, 245703, 146198, 339397, 396535, 270487, 354912, 181808, 284053, 321612, 353616, 141052, 399055, 347882, 353486, 263115, 335984, 483877, 479363, 392044, 343668, 166426, 374720, 316029, 400617, 446354, 396371, 297762, 359940, 315635, 339403, 281338, 339964, 381288, 446791, 283995, 324552, 315837, 353491, 346364, 390043, 293167, 341174, 468202, 337339, 419430, 381283, 301337, 406997, 391713, 398818, 298250, 274855, 260514, 395458, 399404, 335988, 341013, 126889, 364689, 346648, 389015, 437670, 47971, 339846, 395834, 396422, 406990, 339988, 324852, 433808, 371638, 274857, 337170, 323368, 305470, 339259, 458741, 282035, 440021, 379149, 420622, 407448, 482560, 445954, 402897, 400106, 313943, 394117, 354861, 400710, 460793, 339692, 431530, 419680, 345915, 401561, 415842, 383709, 401246, 378236, 339877, 269795, 436827, 398175, 452507, 340837, 429733, 387426, 427900, 401898, 290512, 395992, 395991, 324849, 369192, 411741, 407445, 384680, 469691, 419479, 435126, 300665, 417678, 399057, 390062, 314095, 460790, 461053, 351460, 372343, 335777, 365942, 453213, 354287, 262841, 399170, 438740, 268531, 242606, 292280, 418078, 437109, 441701, 470114, 335360, 337167, 333339, 284054, 338970, 268896, 399035, 499772, 299536, 300668, 406563, 447332, 401478, 449176, 336843, 401981, 437543, 429351, 427641, 442064, 395990, 419831, 487242, 476926, 381719, 419478, 437557, 407451, 445571, 464502, 513285, 496316, 443009, 384521, 485415, 505177, 383498, 497802, 399174, 401371, 351286, 412000, 467867, 456750, 449443, 512291, 424585, 430040, 459910, 469052, 297802, 335983, 456929, 440444, 466654, 477489, 471474, 500168, 199928, 412302, 474883, 479040, 511385, 474753, 433310, 437375, 447665, 511883, 370567, 507111, 469284, 460555, 391710, 472805, 511789, 460019, 508206, 412059, 385955, 455236, 432527, 465642, 502122, 513386, 511383, 498299, 348350, 512094, 502260, 510007, 513540, 470878, 512381, 511679, 353081, 409582, 499953, 467660, 490862, 512376, 505593, 499191, 371608, 513296, 416234, 477270, 472947, 510575, 512287, 511796, 503555, 468339, 490214, 503619, 489172, 507537, 465651, 504997, 453201, 434355, 347111, 509885, 512131, 510104, 486753, 454619, 513126, 484368, 399248, 485774, 431072, 387592, 513124, 513163, 476968, 407439, 340022, 433627, 418667, 10148, 400579]\n"
     ]
    }
   ],
   "source": [
    "# Call the API url , Check for response and print the response whether the data is available or not\n",
    "# store the repsonse as JSON data\n",
    "movies_id_data = []\n",
    "page_num = 1\n",
    "\n",
    "for year in year_data:\n",
    "    \n",
    "    for page_num in range(1,8):\n",
    "        response = requests.get(f\"{url1}api_key={api_key}&primary_release_year={year}&page={page_num}\")\n",
    "        print(response.url)\n",
    "        movies = response.json()\n",
    "       #movies_data.append(response.json())\n",
    "        page_num = page_num + 1\n",
    "               \n",
    "    \n",
    "        for movie in movies['results']:\n",
    "            movies_id_data.append(movie['id'])\n",
    "    \n",
    "    \n",
    "print(movies_id_data)\n",
    "#pprint(movies_data_list)\n"
   ]
  },
  {
   "cell_type": "code",
   "execution_count": 4,
   "metadata": {},
   "outputs": [
    {
     "name": "stdout",
     "output_type": "stream",
     "text": [
      "560\n"
     ]
    }
   ],
   "source": [
    "print(len(movies_id_data))\n",
    "# Get movie id list from the original data pulled based on number of years\n",
    "# This information is used to in the second API call --> To pull data based on years and do the analysis, we need two API calls\n",
    "\n",
    "#movie_id_list = []\n",
    "\n",
    "#for movie_id in movies_data_list:\n",
    "#    movie_id_list.append(movie_id[\"id\"])\n",
    "\n",
    "#print(movie_id_list)   "
   ]
  },
  {
   "cell_type": "code",
   "execution_count": 5,
   "metadata": {},
   "outputs": [],
   "source": [
    "# Using movie id list call the TMDb API for more movie information\n",
    "url2 = \"https://api.themoviedb.org/3/movie/\"\n",
    "movies_details = []\n",
    "\n",
    "for mve_id in movies_id_data:\n",
    "    \n",
    "    response2 = requests.get(f\"{url2}{mve_id}?api_key={api_key}\")\n",
    "    #print(response2.url)\n",
    "    movies_details.append(response2.json())\n",
    "        \n",
    "#pprint(movies_details)"
   ]
  },
  {
   "cell_type": "code",
   "execution_count": null,
   "metadata": {},
   "outputs": [],
   "source": []
  },
  {
   "cell_type": "code",
   "execution_count": 24,
   "metadata": {},
   "outputs": [
    {
     "ename": "KeyError",
     "evalue": "'Nan'",
     "output_type": "error",
     "traceback": [
      "\u001b[1;31m---------------------------------------------------------------------------\u001b[0m",
      "\u001b[1;31mKeyError\u001b[0m                                  Traceback (most recent call last)",
      "\u001b[1;32m<ipython-input-24-e68015cc20d6>\u001b[0m in \u001b[0;36m<module>\u001b[1;34m()\u001b[0m\n\u001b[0;32m     24\u001b[0m     \u001b[1;32mtry\u001b[0m\u001b[1;33m:\u001b[0m\u001b[1;33m\u001b[0m\u001b[0m\n\u001b[1;32m---> 25\u001b[1;33m         \u001b[0mmovie_title\u001b[0m\u001b[1;33m.\u001b[0m\u001b[0mappend\u001b[0m\u001b[1;33m(\u001b[0m\u001b[0mdetail\u001b[0m\u001b[1;33m[\u001b[0m\u001b[1;34m\"title\"\u001b[0m\u001b[1;33m]\u001b[0m\u001b[1;33m)\u001b[0m\u001b[1;33m\u001b[0m\u001b[0m\n\u001b[0m\u001b[0;32m     26\u001b[0m     \u001b[1;32mexcept\u001b[0m\u001b[1;33m:\u001b[0m\u001b[1;33m\u001b[0m\u001b[0m\n",
      "\u001b[1;31mKeyError\u001b[0m: 'title'",
      "\nDuring handling of the above exception, another exception occurred:\n",
      "\u001b[1;31mKeyError\u001b[0m                                  Traceback (most recent call last)",
      "\u001b[1;32m<ipython-input-24-e68015cc20d6>\u001b[0m in \u001b[0;36m<module>\u001b[1;34m()\u001b[0m\n\u001b[0;32m     25\u001b[0m         \u001b[0mmovie_title\u001b[0m\u001b[1;33m.\u001b[0m\u001b[0mappend\u001b[0m\u001b[1;33m(\u001b[0m\u001b[0mdetail\u001b[0m\u001b[1;33m[\u001b[0m\u001b[1;34m\"title\"\u001b[0m\u001b[1;33m]\u001b[0m\u001b[1;33m)\u001b[0m\u001b[1;33m\u001b[0m\u001b[0m\n\u001b[0;32m     26\u001b[0m     \u001b[1;32mexcept\u001b[0m\u001b[1;33m:\u001b[0m\u001b[1;33m\u001b[0m\u001b[0m\n\u001b[1;32m---> 27\u001b[1;33m         \u001b[0mmovie_title\u001b[0m\u001b[1;33m.\u001b[0m\u001b[0mappend\u001b[0m\u001b[1;33m(\u001b[0m\u001b[0mdetail\u001b[0m\u001b[1;33m[\u001b[0m\u001b[1;34m\"Nan\"\u001b[0m\u001b[1;33m]\u001b[0m\u001b[1;33m)\u001b[0m\u001b[1;33m\u001b[0m\u001b[0m\n\u001b[0m\u001b[0;32m     28\u001b[0m         \u001b[1;32mpass\u001b[0m\u001b[1;33m\u001b[0m\u001b[0m\n\u001b[0;32m     29\u001b[0m     \u001b[1;32mtry\u001b[0m\u001b[1;33m:\u001b[0m\u001b[1;33m\u001b[0m\u001b[0m\n",
      "\u001b[1;31mKeyError\u001b[0m: 'Nan'"
     ]
    }
   ],
   "source": [
    "movie_id1 = []\n",
    "movie_title = []\n",
    "budget = []\n",
    "revenue = []\n",
    "release_date = []\n",
    "genre = []\n",
    "production_comp = []\n",
    "tag_line = []\n",
    "\n",
    "for detail in movies_details:\n",
    "    \n",
    "    #pprint(detail)\n",
    "    #movie_title.append(detail[\"title\"])\n",
    "    #budget.append(detail[\"budget\"])\n",
    "    #revenue.append(detail[\"revenue\"])\n",
    "    #genre.append(detail[\"genres\"][0][\"name\"])\n",
    "    #tag_line.append(detail[\"tagline\"])\n",
    "    \n",
    "    try:\n",
    "        movie_id1.append(detail[\"id\"])\n",
    "    except:\n",
    "        movie_id1.append(\"Nan\")\n",
    "        pass\n",
    "    try:\n",
    "        movie_title.append(detail[\"title\"])\n",
    "    except:\n",
    "        movie_title.append(detail[\"Nan\"])\n",
    "        pass\n",
    "    try:\n",
    "        budget.append(detail[\"budget\"])\n",
    "    except:\n",
    "        budget.append(detail[\"Nan\"])\n",
    "        pass\n",
    "    try:\n",
    "        revenue.append(detail[\"revenue\"])\n",
    "    except:\n",
    "        revenue.append(detail[\"Nan\"])\n",
    "        pass\n",
    "    try:\n",
    "        genre.append(detail[\"genres\"][0][\"name\"])\n",
    "    except:\n",
    "        genre.append(\"Nan\")\n",
    "        pass\n",
    "    try:\n",
    "        tag_line.append(detail[\"tagline\"])\n",
    "    except:\n",
    "        tag_line.append(\"Nan\")\n",
    "        pass\n",
    "          \n",
    "    try:\n",
    "        production_comp.append(detail[\"production_companies\"][0][\"name\"])\n",
    "    except:\n",
    "        production_comp.append(\"Nan\")\n",
    "        pass\n",
    "        \n",
    "        \n",
    "\n",
    "\n"
   ]
  },
  {
   "cell_type": "code",
   "execution_count": 23,
   "metadata": {},
   "outputs": [
    {
     "name": "stdout",
     "output_type": "stream",
     "text": [
      "560\n",
      "506\n",
      "506\n",
      "506\n",
      "506\n",
      "493\n"
     ]
    }
   ],
   "source": [
    "print(len(movie_id1))\n",
    "print(len(movie_title))\n",
    "print(len(budget))\n",
    "print(len(revenue))\n",
    "print(len(genre))\n",
    "print(len(tag_line))"
   ]
  },
  {
   "cell_type": "code",
   "execution_count": 15,
   "metadata": {},
   "outputs": [
    {
     "ename": "ValueError",
     "evalue": "arrays must all be same length",
     "output_type": "error",
     "traceback": [
      "\u001b[1;31m---------------------------------------------------------------------------\u001b[0m",
      "\u001b[1;31mValueError\u001b[0m                                Traceback (most recent call last)",
      "\u001b[1;32m<ipython-input-15-51d95cf24a68>\u001b[0m in \u001b[0;36m<module>\u001b[1;34m()\u001b[0m\n\u001b[1;32m----> 1\u001b[1;33m \u001b[0mmovie_df_frame\u001b[0m \u001b[1;33m=\u001b[0m \u001b[0mpd\u001b[0m\u001b[1;33m.\u001b[0m\u001b[0mDataFrame\u001b[0m\u001b[1;33m(\u001b[0m\u001b[1;33m{\u001b[0m\u001b[1;34m\"ID\"\u001b[0m\u001b[1;33m:\u001b[0m\u001b[0mmovie_id1\u001b[0m\u001b[1;33m,\u001b[0m\u001b[1;34m\"Title\"\u001b[0m\u001b[1;33m:\u001b[0m \u001b[0mmovie_title\u001b[0m\u001b[1;33m,\u001b[0m \u001b[1;34m\"Budget\"\u001b[0m\u001b[1;33m:\u001b[0m\u001b[0mbudget\u001b[0m\u001b[1;33m,\u001b[0m \u001b[1;34m\"Revenue\"\u001b[0m\u001b[1;33m:\u001b[0m \u001b[0mrevenue\u001b[0m\u001b[1;33m,\u001b[0m \u001b[1;34m\"Genre\"\u001b[0m\u001b[1;33m:\u001b[0m \u001b[0mgenre\u001b[0m\u001b[1;33m,\u001b[0m \u001b[1;34m\"Production Company\"\u001b[0m\u001b[1;33m:\u001b[0m \u001b[0mproduction_comp\u001b[0m\u001b[1;33m}\u001b[0m\u001b[1;33m)\u001b[0m\u001b[1;33m\u001b[0m\u001b[0m\n\u001b[0m\u001b[0;32m      2\u001b[0m \u001b[0mmovie_df_frame\u001b[0m\u001b[1;33m.\u001b[0m\u001b[0mto_csv\u001b[0m\u001b[1;33m(\u001b[0m\u001b[1;34m\"santhosh.csv\"\u001b[0m\u001b[1;33m,\u001b[0m \u001b[0mindex\u001b[0m \u001b[1;33m=\u001b[0m\u001b[1;32mFalse\u001b[0m\u001b[1;33m)\u001b[0m\u001b[1;33m\u001b[0m\u001b[0m\n\u001b[0;32m      3\u001b[0m \u001b[0mmovie_df_frame\u001b[0m\u001b[1;33m\u001b[0m\u001b[0m\n",
      "\u001b[1;32m~\\Anaconda3\\lib\\site-packages\\pandas\\core\\frame.py\u001b[0m in \u001b[0;36m__init__\u001b[1;34m(self, data, index, columns, dtype, copy)\u001b[0m\n\u001b[0;32m    273\u001b[0m                                  dtype=dtype, copy=copy)\n\u001b[0;32m    274\u001b[0m         \u001b[1;32melif\u001b[0m \u001b[0misinstance\u001b[0m\u001b[1;33m(\u001b[0m\u001b[0mdata\u001b[0m\u001b[1;33m,\u001b[0m \u001b[0mdict\u001b[0m\u001b[1;33m)\u001b[0m\u001b[1;33m:\u001b[0m\u001b[1;33m\u001b[0m\u001b[0m\n\u001b[1;32m--> 275\u001b[1;33m             \u001b[0mmgr\u001b[0m \u001b[1;33m=\u001b[0m \u001b[0mself\u001b[0m\u001b[1;33m.\u001b[0m\u001b[0m_init_dict\u001b[0m\u001b[1;33m(\u001b[0m\u001b[0mdata\u001b[0m\u001b[1;33m,\u001b[0m \u001b[0mindex\u001b[0m\u001b[1;33m,\u001b[0m \u001b[0mcolumns\u001b[0m\u001b[1;33m,\u001b[0m \u001b[0mdtype\u001b[0m\u001b[1;33m=\u001b[0m\u001b[0mdtype\u001b[0m\u001b[1;33m)\u001b[0m\u001b[1;33m\u001b[0m\u001b[0m\n\u001b[0m\u001b[0;32m    276\u001b[0m         \u001b[1;32melif\u001b[0m \u001b[0misinstance\u001b[0m\u001b[1;33m(\u001b[0m\u001b[0mdata\u001b[0m\u001b[1;33m,\u001b[0m \u001b[0mma\u001b[0m\u001b[1;33m.\u001b[0m\u001b[0mMaskedArray\u001b[0m\u001b[1;33m)\u001b[0m\u001b[1;33m:\u001b[0m\u001b[1;33m\u001b[0m\u001b[0m\n\u001b[0;32m    277\u001b[0m             \u001b[1;32mimport\u001b[0m \u001b[0mnumpy\u001b[0m\u001b[1;33m.\u001b[0m\u001b[0mma\u001b[0m\u001b[1;33m.\u001b[0m\u001b[0mmrecords\u001b[0m \u001b[1;32mas\u001b[0m \u001b[0mmrecords\u001b[0m\u001b[1;33m\u001b[0m\u001b[0m\n",
      "\u001b[1;32m~\\Anaconda3\\lib\\site-packages\\pandas\\core\\frame.py\u001b[0m in \u001b[0;36m_init_dict\u001b[1;34m(self, data, index, columns, dtype)\u001b[0m\n\u001b[0;32m    409\u001b[0m             \u001b[0marrays\u001b[0m \u001b[1;33m=\u001b[0m \u001b[1;33m[\u001b[0m\u001b[0mdata\u001b[0m\u001b[1;33m[\u001b[0m\u001b[0mk\u001b[0m\u001b[1;33m]\u001b[0m \u001b[1;32mfor\u001b[0m \u001b[0mk\u001b[0m \u001b[1;32min\u001b[0m \u001b[0mkeys\u001b[0m\u001b[1;33m]\u001b[0m\u001b[1;33m\u001b[0m\u001b[0m\n\u001b[0;32m    410\u001b[0m \u001b[1;33m\u001b[0m\u001b[0m\n\u001b[1;32m--> 411\u001b[1;33m         \u001b[1;32mreturn\u001b[0m \u001b[0m_arrays_to_mgr\u001b[0m\u001b[1;33m(\u001b[0m\u001b[0marrays\u001b[0m\u001b[1;33m,\u001b[0m \u001b[0mdata_names\u001b[0m\u001b[1;33m,\u001b[0m \u001b[0mindex\u001b[0m\u001b[1;33m,\u001b[0m \u001b[0mcolumns\u001b[0m\u001b[1;33m,\u001b[0m \u001b[0mdtype\u001b[0m\u001b[1;33m=\u001b[0m\u001b[0mdtype\u001b[0m\u001b[1;33m)\u001b[0m\u001b[1;33m\u001b[0m\u001b[0m\n\u001b[0m\u001b[0;32m    412\u001b[0m \u001b[1;33m\u001b[0m\u001b[0m\n\u001b[0;32m    413\u001b[0m     \u001b[1;32mdef\u001b[0m \u001b[0m_init_ndarray\u001b[0m\u001b[1;33m(\u001b[0m\u001b[0mself\u001b[0m\u001b[1;33m,\u001b[0m \u001b[0mvalues\u001b[0m\u001b[1;33m,\u001b[0m \u001b[0mindex\u001b[0m\u001b[1;33m,\u001b[0m \u001b[0mcolumns\u001b[0m\u001b[1;33m,\u001b[0m \u001b[0mdtype\u001b[0m\u001b[1;33m=\u001b[0m\u001b[1;32mNone\u001b[0m\u001b[1;33m,\u001b[0m \u001b[0mcopy\u001b[0m\u001b[1;33m=\u001b[0m\u001b[1;32mFalse\u001b[0m\u001b[1;33m)\u001b[0m\u001b[1;33m:\u001b[0m\u001b[1;33m\u001b[0m\u001b[0m\n",
      "\u001b[1;32m~\\Anaconda3\\lib\\site-packages\\pandas\\core\\frame.py\u001b[0m in \u001b[0;36m_arrays_to_mgr\u001b[1;34m(arrays, arr_names, index, columns, dtype)\u001b[0m\n\u001b[0;32m   5494\u001b[0m     \u001b[1;31m# figure out the index, if necessary\u001b[0m\u001b[1;33m\u001b[0m\u001b[1;33m\u001b[0m\u001b[0m\n\u001b[0;32m   5495\u001b[0m     \u001b[1;32mif\u001b[0m \u001b[0mindex\u001b[0m \u001b[1;32mis\u001b[0m \u001b[1;32mNone\u001b[0m\u001b[1;33m:\u001b[0m\u001b[1;33m\u001b[0m\u001b[0m\n\u001b[1;32m-> 5496\u001b[1;33m         \u001b[0mindex\u001b[0m \u001b[1;33m=\u001b[0m \u001b[0mextract_index\u001b[0m\u001b[1;33m(\u001b[0m\u001b[0marrays\u001b[0m\u001b[1;33m)\u001b[0m\u001b[1;33m\u001b[0m\u001b[0m\n\u001b[0m\u001b[0;32m   5497\u001b[0m     \u001b[1;32melse\u001b[0m\u001b[1;33m:\u001b[0m\u001b[1;33m\u001b[0m\u001b[0m\n\u001b[0;32m   5498\u001b[0m         \u001b[0mindex\u001b[0m \u001b[1;33m=\u001b[0m \u001b[0m_ensure_index\u001b[0m\u001b[1;33m(\u001b[0m\u001b[0mindex\u001b[0m\u001b[1;33m)\u001b[0m\u001b[1;33m\u001b[0m\u001b[0m\n",
      "\u001b[1;32m~\\Anaconda3\\lib\\site-packages\\pandas\\core\\frame.py\u001b[0m in \u001b[0;36mextract_index\u001b[1;34m(data)\u001b[0m\n\u001b[0;32m   5542\u001b[0m             \u001b[0mlengths\u001b[0m \u001b[1;33m=\u001b[0m \u001b[0mlist\u001b[0m\u001b[1;33m(\u001b[0m\u001b[0mset\u001b[0m\u001b[1;33m(\u001b[0m\u001b[0mraw_lengths\u001b[0m\u001b[1;33m)\u001b[0m\u001b[1;33m)\u001b[0m\u001b[1;33m\u001b[0m\u001b[0m\n\u001b[0;32m   5543\u001b[0m             \u001b[1;32mif\u001b[0m \u001b[0mlen\u001b[0m\u001b[1;33m(\u001b[0m\u001b[0mlengths\u001b[0m\u001b[1;33m)\u001b[0m \u001b[1;33m>\u001b[0m \u001b[1;36m1\u001b[0m\u001b[1;33m:\u001b[0m\u001b[1;33m\u001b[0m\u001b[0m\n\u001b[1;32m-> 5544\u001b[1;33m                 \u001b[1;32mraise\u001b[0m \u001b[0mValueError\u001b[0m\u001b[1;33m(\u001b[0m\u001b[1;34m'arrays must all be same length'\u001b[0m\u001b[1;33m)\u001b[0m\u001b[1;33m\u001b[0m\u001b[0m\n\u001b[0m\u001b[0;32m   5545\u001b[0m \u001b[1;33m\u001b[0m\u001b[0m\n\u001b[0;32m   5546\u001b[0m             \u001b[1;32mif\u001b[0m \u001b[0mhave_dicts\u001b[0m\u001b[1;33m:\u001b[0m\u001b[1;33m\u001b[0m\u001b[0m\n",
      "\u001b[1;31mValueError\u001b[0m: arrays must all be same length"
     ]
    }
   ],
   "source": [
    "movie_df_frame = pd.DataFrame({\"ID\":movie_id1,\"Title\": movie_title, \"Budget\":budget, \"Revenue\": revenue, \"Genre\": genre, \"Production Company\": production_comp})\n",
    "movie_df_frame.to_csv(\"santhosh.csv\", index =False)\n",
    "movie_df_frame\n"
   ]
  },
  {
   "cell_type": "code",
   "execution_count": null,
   "metadata": {
    "collapsed": true
   },
   "outputs": [],
   "source": []
  }
 ],
 "metadata": {
  "kernelspec": {
   "display_name": "Python 3",
   "language": "python",
   "name": "python3"
  },
  "language_info": {
   "codemirror_mode": {
    "name": "ipython",
    "version": 3
   },
   "file_extension": ".py",
   "mimetype": "text/x-python",
   "name": "python",
   "nbconvert_exporter": "python",
   "pygments_lexer": "ipython3",
   "version": "3.6.3"
  }
 },
 "nbformat": 4,
 "nbformat_minor": 2
}
